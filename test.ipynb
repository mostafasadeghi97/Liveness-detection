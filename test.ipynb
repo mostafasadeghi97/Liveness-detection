{
 "cells": [
  {
   "cell_type": "code",
   "execution_count": null,
   "id": "superb-efficiency",
   "metadata": {},
   "outputs": [],
   "source": []
  },
  {
   "cell_type": "code",
   "execution_count": 1,
   "id": "vietnamese-vocabulary",
   "metadata": {},
   "outputs": [],
   "source": [
    "import cv2\n",
    "\n",
    "img = cv2.imread('/home/mostafa/projects /liveness-detection/dataset/real/6.png')"
   ]
  },
  {
   "cell_type": "code",
   "execution_count": 2,
   "id": "quiet-wireless",
   "metadata": {},
   "outputs": [],
   "source": [
    "# celebA_spoof_image_iter = get_image()"
   ]
  },
  {
   "cell_type": "code",
   "execution_count": 3,
   "id": "affecting-delaware",
   "metadata": {},
   "outputs": [],
   "source": [
    "import time\n",
    "import sys\n",
    "import logging\n",
    "\n",
    "import numpy as np\n",
    "from client import get_image, verify_output\n",
    "\n",
    "logging.basicConfig(level=logging.INFO)\n",
    "\n",
    "\n",
    "from tsn_predict import TSNPredictor as CelebASpoofDetector\n",
    "\n",
    "\n",
    "\n",
    "try:\n",
    "    detector = CelebASpoofDetector()\n",
    "except:\n",
    "    # send errors to the eval frontend\n",
    "    raise"
   ]
  },
  {
   "cell_type": "code",
   "execution_count": 41,
   "id": "swedish-tongue",
   "metadata": {},
   "outputs": [],
   "source": [
    "import os\n",
    "\n",
    "images = ['/home/mostafa/projects/helios/liveness-detection/dataset/video3/'+i for i in os.listdir('/home/mostafa/projects/helios/liveness-detection/dataset/video3/')]"
   ]
  },
  {
   "cell_type": "code",
   "execution_count": 42,
   "id": "educated-screw",
   "metadata": {},
   "outputs": [
    {
     "name": "stderr",
     "output_type": "stream",
     "text": [
      "<ipython-input-42-54c3da0d7316>:7: VisibleDeprecationWarning: Creating an ndarray from ragged nested sequences (which is a list-or-tuple of lists-or-tuples-or ndarrays with different lengths or shapes) is deprecated. If you meant to do this, you must specify 'dtype=object' when creating the ndarray\n",
      "  np_final_image = np.array(imgs)\n"
     ]
    }
   ],
   "source": [
    "imgs = []\n",
    "for image in images:\n",
    "    img = cv2.imread(image) \n",
    "    img = cv2.cvtColor(img, cv2.COLOR_BGR2RGB)\n",
    "    imgs.append(img)\n",
    "\n",
    "np_final_image = np.array(imgs)"
   ]
  },
  {
   "cell_type": "code",
   "execution_count": 43,
   "id": "fitted-forth",
   "metadata": {},
   "outputs": [],
   "source": [
    "prob = detector.predict(np_final_image)"
   ]
  },
  {
   "cell_type": "code",
   "execution_count": 44,
   "id": "promising-society",
   "metadata": {},
   "outputs": [
    {
     "data": {
      "text/plain": [
       "array([[2.71571880e-05, 9.99972820e-01],\n",
       "       [4.78839174e-05, 9.99952078e-01],\n",
       "       [3.45188100e-03, 9.96548116e-01],\n",
       "       [1.02826965e-03, 9.98971701e-01],\n",
       "       [8.15253879e-05, 9.99918461e-01],\n",
       "       [3.81995960e-05, 9.99961853e-01],\n",
       "       [1.58721698e-04, 9.99841213e-01],\n",
       "       [2.21703194e-05, 9.99977827e-01],\n",
       "       [1.25990018e-05, 9.99987364e-01],\n",
       "       [3.45932245e-02, 9.65406835e-01],\n",
       "       [1.21174908e-05, 9.99987841e-01],\n",
       "       [5.28933815e-05, 9.99947071e-01],\n",
       "       [2.69545876e-06, 9.99997258e-01],\n",
       "       [4.69082908e-04, 9.99530911e-01],\n",
       "       [3.57980616e-06, 9.99996424e-01],\n",
       "       [9.16177032e-06, 9.99990821e-01],\n",
       "       [1.24106256e-04, 9.99875903e-01],\n",
       "       [5.94709418e-05, 9.99940515e-01],\n",
       "       [1.27651647e-05, 9.99987245e-01],\n",
       "       [6.06139156e-06, 9.99993920e-01],\n",
       "       [6.99756220e-06, 9.99992967e-01],\n",
       "       [1.77923412e-05, 9.99982238e-01],\n",
       "       [9.47249191e-06, 9.99990582e-01],\n",
       "       [1.22000303e-04, 9.99877930e-01],\n",
       "       [5.81979053e-04, 9.99418020e-01],\n",
       "       [2.73173482e-05, 9.99972701e-01],\n",
       "       [1.31370398e-05, 9.99986887e-01],\n",
       "       [2.07963149e-06, 9.99997973e-01],\n",
       "       [6.66503456e-06, 9.99993324e-01],\n",
       "       [7.06646824e-06, 9.99992967e-01],\n",
       "       [1.68711313e-06, 9.99998331e-01],\n",
       "       [2.99421608e-05, 9.99970078e-01],\n",
       "       [3.65089545e-05, 9.99963522e-01],\n",
       "       [2.86184713e-05, 9.99971390e-01],\n",
       "       [1.89324237e-05, 9.99981046e-01],\n",
       "       [3.37411916e-06, 9.99996662e-01],\n",
       "       [1.16418523e-05, 9.99988317e-01],\n",
       "       [5.25332580e-05, 9.99947429e-01],\n",
       "       [4.62726966e-05, 9.99953747e-01],\n",
       "       [3.26006957e-05, 9.99967456e-01],\n",
       "       [3.37512347e-06, 9.99996662e-01],\n",
       "       [6.51106384e-05, 9.99934912e-01],\n",
       "       [5.24197565e-03, 9.94757950e-01],\n",
       "       [4.05571249e-04, 9.99594390e-01],\n",
       "       [1.18238572e-03, 9.98817623e-01],\n",
       "       [9.97805910e-06, 9.99989986e-01],\n",
       "       [9.80314235e-06, 9.99990225e-01],\n",
       "       [7.11205575e-06, 9.99992847e-01],\n",
       "       [4.91302671e-05, 9.99950886e-01],\n",
       "       [1.87890146e-05, 9.99981165e-01],\n",
       "       [8.59562624e-06, 9.99991417e-01],\n",
       "       [1.81680105e-06, 9.99998212e-01],\n",
       "       [7.51637199e-05, 9.99924779e-01],\n",
       "       [4.05455876e-06, 9.99995947e-01],\n",
       "       [5.94867424e-06, 9.99994040e-01],\n",
       "       [3.49825714e-04, 9.99650121e-01],\n",
       "       [4.27123887e-05, 9.99957323e-01],\n",
       "       [8.79203653e-05, 9.99912024e-01],\n",
       "       [1.11995156e-04, 9.99887943e-01],\n",
       "       [1.41711818e-04, 9.99858260e-01],\n",
       "       [4.50033331e-05, 9.99954939e-01],\n",
       "       [1.95276716e-05, 9.99980450e-01],\n",
       "       [3.37119241e-06, 9.99996662e-01],\n",
       "       [5.07294238e-02, 9.49270546e-01],\n",
       "       [8.38630785e-06, 9.99991655e-01],\n",
       "       [1.36687629e-06, 9.99998689e-01],\n",
       "       [6.85957319e-04, 9.99314070e-01],\n",
       "       [1.42403869e-05, 9.99985814e-01],\n",
       "       [6.93582797e-06, 9.99993086e-01],\n",
       "       [2.85820297e-05, 9.99971390e-01],\n",
       "       [2.01351650e-05, 9.99979854e-01],\n",
       "       [1.88114991e-05, 9.99981165e-01],\n",
       "       [1.80908028e-05, 9.99981880e-01],\n",
       "       [5.28323872e-05, 9.99947190e-01],\n",
       "       [2.95033965e-06, 9.99997020e-01],\n",
       "       [9.57114462e-05, 9.99904275e-01],\n",
       "       [1.08287657e-06, 9.99998927e-01],\n",
       "       [2.87791681e-06, 9.99997139e-01],\n",
       "       [3.56502678e-05, 9.99964356e-01],\n",
       "       [3.47763344e-05, 9.99965191e-01],\n",
       "       [1.23961130e-04, 9.99876022e-01],\n",
       "       [6.61506027e-04, 9.99338448e-01],\n",
       "       [6.45406362e-06, 9.99993563e-01],\n",
       "       [3.68956313e-03, 9.96310413e-01],\n",
       "       [3.57182202e-04, 9.99642849e-01],\n",
       "       [6.44693364e-06, 9.99993563e-01],\n",
       "       [1.19940058e-04, 9.99880075e-01],\n",
       "       [1.04652645e-06, 9.99998927e-01],\n",
       "       [7.99827490e-07, 9.99999166e-01],\n",
       "       [1.43003876e-06, 9.99998569e-01],\n",
       "       [3.19115352e-04, 9.99680877e-01],\n",
       "       [4.85248129e-05, 9.99951482e-01]], dtype=float32)"
      ]
     },
     "execution_count": 44,
     "metadata": {},
     "output_type": "execute_result"
    }
   ],
   "source": [
    "prob"
   ]
  },
  {
   "cell_type": "code",
   "execution_count": 45,
   "id": "automated-evans",
   "metadata": {},
   "outputs": [],
   "source": [
    "positive = 0\n",
    "for p in prob:\n",
    "    if p[0] > 0.7:\n",
    "        positive+=1"
   ]
  },
  {
   "cell_type": "code",
   "execution_count": null,
   "id": "above-accreditation",
   "metadata": {},
   "outputs": [],
   "source": []
  },
  {
   "cell_type": "code",
   "execution_count": 46,
   "id": "global-equilibrium",
   "metadata": {},
   "outputs": [],
   "source": [
    "negative = 0\n",
    "for p in prob:\n",
    "    if p[0] < 0.7:\n",
    "        negative+=1"
   ]
  },
  {
   "cell_type": "code",
   "execution_count": null,
   "id": "pretty-anniversary",
   "metadata": {},
   "outputs": [],
   "source": []
  },
  {
   "cell_type": "code",
   "execution_count": 47,
   "id": "passing-alpha",
   "metadata": {},
   "outputs": [
    {
     "data": {
      "text/plain": [
       "0.0"
      ]
     },
     "execution_count": 47,
     "metadata": {},
     "output_type": "execute_result"
    }
   ],
   "source": [
    "(positive) / (positive + negative)"
   ]
  },
  {
   "cell_type": "code",
   "execution_count": 7,
   "id": "figured-labor",
   "metadata": {},
   "outputs": [],
   "source": [
    "imgs = []\n",
    "imgs.append(img)"
   ]
  },
  {
   "cell_type": "code",
   "execution_count": 8,
   "id": "adequate-humanity",
   "metadata": {},
   "outputs": [],
   "source": [
    "np_final_image = np.array(imgs)"
   ]
  },
  {
   "cell_type": "code",
   "execution_count": 9,
   "id": "removable-bernard",
   "metadata": {},
   "outputs": [
    {
     "data": {
      "text/plain": [
       "(1, 574, 383, 3)"
      ]
     },
     "execution_count": 9,
     "metadata": {},
     "output_type": "execute_result"
    }
   ],
   "source": [
    "\n",
    "np_final_image.shape"
   ]
  },
  {
   "cell_type": "code",
   "execution_count": 10,
   "id": "entitled-valley",
   "metadata": {},
   "outputs": [
    {
     "name": "stderr",
     "output_type": "stream",
     "text": [
      "/home/mostafa/anaconda3/lib/python3.8/site-packages/torch/nn/functional.py:3118: UserWarning: Default upsampling behavior when mode=bilinear is changed to align_corners=False since 0.4.0. Please specify align_corners=True if the old behavior is desired. See the documentation of nn.Upsample for details.\n",
      "  warnings.warn(\"Default upsampling behavior when mode={} is changed \"\n"
     ]
    }
   ],
   "source": [
    "prob = detector.predict(np_final_image)"
   ]
  },
  {
   "cell_type": "code",
   "execution_count": 11,
   "id": "surface-waterproof",
   "metadata": {},
   "outputs": [
    {
     "data": {
      "text/plain": [
       "array([[1.4801111e-04, 9.9985194e-01]], dtype=float32)"
      ]
     },
     "execution_count": 11,
     "metadata": {},
     "output_type": "execute_result"
    }
   ],
   "source": [
    "prob"
   ]
  },
  {
   "cell_type": "code",
   "execution_count": null,
   "id": "functioning-parish",
   "metadata": {},
   "outputs": [],
   "source": []
  },
  {
   "cell_type": "code",
   "execution_count": null,
   "id": "owned-alfred",
   "metadata": {},
   "outputs": [],
   "source": []
  },
  {
   "cell_type": "code",
   "execution_count": null,
   "id": "strategic-partition",
   "metadata": {},
   "outputs": [],
   "source": [
    "\n",
    "\n",
    "\n",
    "\n",
    "\n",
    "# run the images one-by-one and get runtime\n",
    "output_probs = {}\n",
    "eval_cnt = 0\n",
    "\n",
    "for image_id, image in image_iter:\n",
    "    time_before = time.time()\n",
    "    try:\n",
    "        prob = detector.predict(image)\n",
    "\n",
    "        for idx,i in enumerate(image_id):\n",
    "            output_probs[i] = float(prob[idx][1])\n",
    "    except:\n",
    "        # send errors to the eval frontend\n",
    "        logging.error(\"Image id failed: {}\".format(image_id))\n",
    "        raise\n",
    "\n",
    "\n",
    "    eval_cnt += len(image)\n",
    "\n",
    "    if eval_cnt % 10 == 0:\n",
    "        logging.info(\"Finished {} images\".format(eval_cnt))\n",
    "\n",
    "logging.info(\"\"\"\n",
    "================================================================================\n",
    "All images finished, showing verification info below:\n",
    "================================================================================\n",
    "\"\"\")\n",
    "\n",
    "# verify the algorithm output\n",
    "verify_output(output_probs)\n",
    "\n",
    "\n",
    "if __name__ == '__main__':\n",
    "    celebA_spoof_image_iter = get_image()\n",
    "    run_test(CelebASpoofDetector, celebA_spoof_image_iter)\n"
   ]
  }
 ],
 "metadata": {
  "kernelspec": {
   "display_name": "Python 3",
   "language": "python",
   "name": "python3"
  },
  "language_info": {
   "codemirror_mode": {
    "name": "ipython",
    "version": 3
   },
   "file_extension": ".py",
   "mimetype": "text/x-python",
   "name": "python",
   "nbconvert_exporter": "python",
   "pygments_lexer": "ipython3",
   "version": "3.8.5"
  }
 },
 "nbformat": 4,
 "nbformat_minor": 5
}
